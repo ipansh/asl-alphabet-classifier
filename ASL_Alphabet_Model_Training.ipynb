{
  "nbformat": 4,
  "nbformat_minor": 0,
  "metadata": {
    "accelerator": "GPU",
    "colab": {
      "name": "ASL-Alphabet-Model-Training.ipynb",
      "provenance": [],
      "include_colab_link": true
    },
    "interpreter": {
      "hash": "dca0ade3e726a953b501b15e8e990130d2b7799f14cfd9f4271676035ebe5511"
    },
    "kernelspec": {
      "display_name": "Python 3.7.4 64-bit ('base': conda)",
      "name": "python3"
    },
    "language_info": {
      "codemirror_mode": {
        "name": "ipython",
        "version": 3
      },
      "file_extension": ".py",
      "mimetype": "text/x-python",
      "name": "python",
      "nbconvert_exporter": "python",
      "pygments_lexer": "ipython3",
      "version": "3.7.4"
    }
  },
  "cells": [
    {
      "cell_type": "markdown",
      "metadata": {
        "id": "view-in-github",
        "colab_type": "text"
      },
      "source": [
        "<a href=\"https://colab.research.google.com/github/ipansh/asl-alphabet-classifier/blob/main/ASL_Alphabet_Model_Training.ipynb\" target=\"_parent\"><img src=\"https://colab.research.google.com/assets/colab-badge.svg\" alt=\"Open In Colab\"/></a>"
      ]
    },
    {
      "cell_type": "code",
      "metadata": {
        "id": "2BMXINhKy523"
      },
      "source": [
        "import warnings\n",
        "warnings.simplefilter(action='ignore', category=FutureWarning)\n",
        "\n",
        "import pandas as pd\n",
        "import numpy as np\n",
        "\n",
        "import tensorflow as tf\n",
        "\n",
        "# Import matplotlib\n",
        "import matplotlib.pyplot as plt\n",
        "from matplotlib.image import imread\n",
        "import plotly.express as px\n",
        "\n",
        "import keras\n",
        "\n",
        "from keras.applications.vgg16 import VGG16\n",
        "from keras.preprocessing.image import load_img\n",
        "from keras.preprocessing.image import img_to_array\n",
        "from keras.applications.vgg16 import preprocess_input\n",
        "from keras.applications.vgg16 import decode_predictions\n",
        "\n",
        "import os # used for navigating to image path\n",
        "import imageio # used for writing images\n",
        "\n",
        "import datetime\n",
        "\n",
        "from PIL import Image\n",
        "from PIL import ImageFile\n",
        "\n",
        "##not sure why I need this but I do\n",
        "ImageFile.LOAD_TRUNCATED_IMAGES = True"
      ],
      "execution_count": 4,
      "outputs": []
    },
    {
      "cell_type": "code",
      "metadata": {
        "colab": {
          "base_uri": "https://localhost:8080/"
        },
        "id": "OnBBzBRlUt0o",
        "outputId": "6b721a9d-2308-45de-de5e-0493f9ffe740"
      },
      "source": [
        "from google.colab import drive\n",
        "drive.mount('/content/drive')"
      ],
      "execution_count": 2,
      "outputs": [
        {
          "output_type": "stream",
          "text": [
            "Mounted at /content/drive\n"
          ],
          "name": "stdout"
        }
      ]
    },
    {
      "cell_type": "code",
      "metadata": {
        "colab": {
          "base_uri": "https://localhost:8080/"
        },
        "id": "X2UG3cr4jmQ2",
        "outputId": "739bc33a-a608-4920-a81e-d9e9dd0afe11"
      },
      "source": [
        "directory = '/content/drive/MyDrive/ASL Classification/data'\n",
        "\n",
        "train_images = np.load(os.path.join(directory,'train_images.npy'))\n",
        "train_labels = np.load(os.path.join(directory, 'train_labels.npy'))\n",
        "\n",
        "print(\"Shape of train image dataset: {}\".format(train_images.shape))\n",
        "print(\"Shape of train label dataset: {}\".format(train_labels.shape))"
      ],
      "execution_count": 5,
      "outputs": [
        {
          "output_type": "stream",
          "text": [
            "Shape of train image dataset: (16000, 200, 200, 1)\n",
            "Shape of train label dataset: (16000, 29)\n"
          ],
          "name": "stdout"
        }
      ]
    },
    {
      "cell_type": "code",
      "metadata": {
        "colab": {
          "base_uri": "https://localhost:8080/"
        },
        "id": "IAR45p3Hy53D",
        "outputId": "601701a5-b62f-491b-a812-9682e809cd68"
      },
      "source": [
        "# Import the necessary components from Keras\n",
        "from keras.models import Sequential\n",
        "from keras.layers import Dense, Conv2D, Flatten, MaxPooling2D, Dropout, GlobalAveragePooling2D\n",
        "\n",
        "# Initialize the model object\n",
        "model = Sequential()\n",
        "\n",
        "# Add a convolutional layer\n",
        "model.add(Conv2D(filters = 16, kernel_size=3, strides = 1,\n",
        "                 padding = 'same', activation='relu',\n",
        "                 input_shape=(200, 200, 1)))\n",
        "\n",
        "model.add(MaxPooling2D(pool_size = 2))\n",
        "\n",
        "# Add a convolutional layer\n",
        "model.add(Conv2D(filters = 32, kernel_size=3, strides = 1,\n",
        "                 padding = 'same', activation='relu'))\n",
        "\n",
        "model.add(MaxPooling2D(pool_size = 2))\n",
        "\n",
        "# Add a convolutional layer\n",
        "model.add(Conv2D(filters = 64, kernel_size=3, strides = 1,\n",
        "                 padding = 'same', activation='relu'))\n",
        "\n",
        "model.add(MaxPooling2D(pool_size = 2))\n",
        "\n",
        "# Add a convolutional layer\n",
        "model.add(Conv2D(filters = 128, kernel_size=3, strides = 1,\n",
        "                 padding = 'same', activation='relu'))\n",
        "\n",
        "#Adding 3 layers for regularization purposes\n",
        "model.add(MaxPooling2D(pool_size = 2))\n",
        "\n",
        "model.add(Dropout(0.2))\n",
        "\n",
        "model.add(GlobalAveragePooling2D())\n",
        "\n",
        "model.add(Dense(29, activation='softmax'))\n",
        "\n",
        "# Compile the model\n",
        "model.compile(optimizer='adam', \n",
        "              loss='categorical_crossentropy', \n",
        "              metrics=['accuracy'])\n",
        "\n",
        "model.summary()"
      ],
      "execution_count": 6,
      "outputs": [
        {
          "output_type": "stream",
          "text": [
            "Model: \"sequential\"\n",
            "_________________________________________________________________\n",
            "Layer (type)                 Output Shape              Param #   \n",
            "=================================================================\n",
            "conv2d (Conv2D)              (None, 200, 200, 16)      160       \n",
            "_________________________________________________________________\n",
            "max_pooling2d (MaxPooling2D) (None, 100, 100, 16)      0         \n",
            "_________________________________________________________________\n",
            "conv2d_1 (Conv2D)            (None, 100, 100, 32)      4640      \n",
            "_________________________________________________________________\n",
            "max_pooling2d_1 (MaxPooling2 (None, 50, 50, 32)        0         \n",
            "_________________________________________________________________\n",
            "conv2d_2 (Conv2D)            (None, 50, 50, 64)        18496     \n",
            "_________________________________________________________________\n",
            "max_pooling2d_2 (MaxPooling2 (None, 25, 25, 64)        0         \n",
            "_________________________________________________________________\n",
            "conv2d_3 (Conv2D)            (None, 25, 25, 128)       73856     \n",
            "_________________________________________________________________\n",
            "max_pooling2d_3 (MaxPooling2 (None, 12, 12, 128)       0         \n",
            "_________________________________________________________________\n",
            "dropout (Dropout)            (None, 12, 12, 128)       0         \n",
            "_________________________________________________________________\n",
            "global_average_pooling2d (Gl (None, 128)               0         \n",
            "_________________________________________________________________\n",
            "dense (Dense)                (None, 29)                3741      \n",
            "=================================================================\n",
            "Total params: 100,893\n",
            "Trainable params: 100,893\n",
            "Non-trainable params: 0\n",
            "_________________________________________________________________\n"
          ],
          "name": "stdout"
        }
      ]
    },
    {
      "cell_type": "code",
      "metadata": {
        "colab": {
          "base_uri": "https://localhost:8080/"
        },
        "id": "Dwwr5dLky53E",
        "outputId": "d6dd3f47-8edb-44dc-b7bc-9d751fa2783b"
      },
      "source": [
        "# Import EarlyStopping\n",
        "from keras.callbacks import EarlyStopping\n",
        "\n",
        "# Define early_stopping_monitor\n",
        "early_stopping_monitor = EarlyStopping(patience = 2)\n",
        "\n",
        "training = model.fit(train_images, train_labels,\n",
        "          batch_size = 50,\n",
        "          epochs = 15,\n",
        "          validation_split=0.3,\n",
        "          callbacks = [early_stopping_monitor]\n",
        "          )"
      ],
      "execution_count": 7,
      "outputs": [
        {
          "output_type": "stream",
          "text": [
            "Epoch 1/15\n",
            "224/224 [==============================] - 53s 40ms/step - loss: 3.8006 - accuracy: 0.0797 - val_loss: 2.1065 - val_accuracy: 0.3629\n",
            "Epoch 2/15\n",
            "224/224 [==============================] - 8s 37ms/step - loss: 1.8785 - accuracy: 0.4261 - val_loss: 1.4334 - val_accuracy: 0.5675\n",
            "Epoch 3/15\n",
            "224/224 [==============================] - 8s 37ms/step - loss: 1.2100 - accuracy: 0.6307 - val_loss: 1.1538 - val_accuracy: 0.6919\n",
            "Epoch 4/15\n",
            "224/224 [==============================] - 8s 38ms/step - loss: 0.9488 - accuracy: 0.7132 - val_loss: 0.6916 - val_accuracy: 0.7892\n",
            "Epoch 5/15\n",
            "224/224 [==============================] - 8s 37ms/step - loss: 0.7086 - accuracy: 0.7755 - val_loss: 0.5440 - val_accuracy: 0.8323\n",
            "Epoch 6/15\n",
            "224/224 [==============================] - 8s 37ms/step - loss: 0.5474 - accuracy: 0.8337 - val_loss: 0.6099 - val_accuracy: 0.8094\n",
            "Epoch 7/15\n",
            "224/224 [==============================] - 8s 37ms/step - loss: 0.4401 - accuracy: 0.8619 - val_loss: 0.3289 - val_accuracy: 0.9094\n",
            "Epoch 8/15\n",
            "224/224 [==============================] - 8s 37ms/step - loss: 0.3201 - accuracy: 0.8996 - val_loss: 0.3519 - val_accuracy: 0.8960\n",
            "Epoch 9/15\n",
            "224/224 [==============================] - 8s 38ms/step - loss: 0.3073 - accuracy: 0.9012 - val_loss: 0.3004 - val_accuracy: 0.9029\n",
            "Epoch 10/15\n",
            "224/224 [==============================] - 9s 38ms/step - loss: 0.2543 - accuracy: 0.9177 - val_loss: 0.2227 - val_accuracy: 0.9333\n",
            "Epoch 11/15\n",
            "224/224 [==============================] - 8s 37ms/step - loss: 0.1889 - accuracy: 0.9419 - val_loss: 0.2027 - val_accuracy: 0.9348\n",
            "Epoch 12/15\n",
            "224/224 [==============================] - 9s 38ms/step - loss: 0.1771 - accuracy: 0.9450 - val_loss: 0.1732 - val_accuracy: 0.9467\n",
            "Epoch 13/15\n",
            "224/224 [==============================] - 9s 38ms/step - loss: 0.1568 - accuracy: 0.9530 - val_loss: 0.1529 - val_accuracy: 0.9527\n",
            "Epoch 14/15\n",
            "224/224 [==============================] - 8s 38ms/step - loss: 0.1184 - accuracy: 0.9650 - val_loss: 0.1290 - val_accuracy: 0.9660\n",
            "Epoch 15/15\n",
            "224/224 [==============================] - 9s 38ms/step - loss: 0.1323 - accuracy: 0.9611 - val_loss: 0.1662 - val_accuracy: 0.9452\n"
          ],
          "name": "stdout"
        }
      ]
    },
    {
      "cell_type": "code",
      "metadata": {
        "colab": {
          "base_uri": "https://localhost:8080/",
          "height": 514
        },
        "id": "SE0Wyic8o1Og",
        "outputId": "587f1ef1-08b7-4b81-f99c-e8ac00ac1f29"
      },
      "source": [
        "training_history_df = pd.DataFrame(training.history)\n",
        "training_history_df = training_history_df.reset_index().rename(columns = {'index':'epoch'})\n",
        "training_history_df.loc[:,('epoch')] = [epoch+1 for epoch in training_history_df['epoch']]\n",
        "training_history_df"
      ],
      "execution_count": 11,
      "outputs": [
        {
          "output_type": "execute_result",
          "data": {
            "text/html": [
              "<div>\n",
              "<style scoped>\n",
              "    .dataframe tbody tr th:only-of-type {\n",
              "        vertical-align: middle;\n",
              "    }\n",
              "\n",
              "    .dataframe tbody tr th {\n",
              "        vertical-align: top;\n",
              "    }\n",
              "\n",
              "    .dataframe thead th {\n",
              "        text-align: right;\n",
              "    }\n",
              "</style>\n",
              "<table border=\"1\" class=\"dataframe\">\n",
              "  <thead>\n",
              "    <tr style=\"text-align: right;\">\n",
              "      <th></th>\n",
              "      <th>epoch</th>\n",
              "      <th>loss</th>\n",
              "      <th>accuracy</th>\n",
              "      <th>val_loss</th>\n",
              "      <th>val_accuracy</th>\n",
              "    </tr>\n",
              "  </thead>\n",
              "  <tbody>\n",
              "    <tr>\n",
              "      <th>0</th>\n",
              "      <td>1</td>\n",
              "      <td>3.024484</td>\n",
              "      <td>0.164196</td>\n",
              "      <td>2.106492</td>\n",
              "      <td>0.362917</td>\n",
              "    </tr>\n",
              "    <tr>\n",
              "      <th>1</th>\n",
              "      <td>2</td>\n",
              "      <td>1.681690</td>\n",
              "      <td>0.485714</td>\n",
              "      <td>1.433382</td>\n",
              "      <td>0.567500</td>\n",
              "    </tr>\n",
              "    <tr>\n",
              "      <th>2</th>\n",
              "      <td>3</td>\n",
              "      <td>1.137284</td>\n",
              "      <td>0.651071</td>\n",
              "      <td>1.153830</td>\n",
              "      <td>0.691875</td>\n",
              "    </tr>\n",
              "    <tr>\n",
              "      <th>3</th>\n",
              "      <td>4</td>\n",
              "      <td>0.865134</td>\n",
              "      <td>0.732946</td>\n",
              "      <td>0.691575</td>\n",
              "      <td>0.789167</td>\n",
              "    </tr>\n",
              "    <tr>\n",
              "      <th>4</th>\n",
              "      <td>5</td>\n",
              "      <td>0.661732</td>\n",
              "      <td>0.790089</td>\n",
              "      <td>0.543996</td>\n",
              "      <td>0.832292</td>\n",
              "    </tr>\n",
              "    <tr>\n",
              "      <th>5</th>\n",
              "      <td>6</td>\n",
              "      <td>0.525034</td>\n",
              "      <td>0.835536</td>\n",
              "      <td>0.609934</td>\n",
              "      <td>0.809375</td>\n",
              "    </tr>\n",
              "    <tr>\n",
              "      <th>6</th>\n",
              "      <td>7</td>\n",
              "      <td>0.412872</td>\n",
              "      <td>0.868482</td>\n",
              "      <td>0.328860</td>\n",
              "      <td>0.909375</td>\n",
              "    </tr>\n",
              "    <tr>\n",
              "      <th>7</th>\n",
              "      <td>8</td>\n",
              "      <td>0.328067</td>\n",
              "      <td>0.896250</td>\n",
              "      <td>0.351901</td>\n",
              "      <td>0.896042</td>\n",
              "    </tr>\n",
              "    <tr>\n",
              "      <th>8</th>\n",
              "      <td>9</td>\n",
              "      <td>0.273628</td>\n",
              "      <td>0.913214</td>\n",
              "      <td>0.300368</td>\n",
              "      <td>0.902917</td>\n",
              "    </tr>\n",
              "    <tr>\n",
              "      <th>9</th>\n",
              "      <td>10</td>\n",
              "      <td>0.247131</td>\n",
              "      <td>0.922321</td>\n",
              "      <td>0.222741</td>\n",
              "      <td>0.933333</td>\n",
              "    </tr>\n",
              "    <tr>\n",
              "      <th>10</th>\n",
              "      <td>11</td>\n",
              "      <td>0.190797</td>\n",
              "      <td>0.940268</td>\n",
              "      <td>0.202662</td>\n",
              "      <td>0.934792</td>\n",
              "    </tr>\n",
              "    <tr>\n",
              "      <th>11</th>\n",
              "      <td>12</td>\n",
              "      <td>0.169482</td>\n",
              "      <td>0.945893</td>\n",
              "      <td>0.173174</td>\n",
              "      <td>0.946667</td>\n",
              "    </tr>\n",
              "    <tr>\n",
              "      <th>12</th>\n",
              "      <td>13</td>\n",
              "      <td>0.151204</td>\n",
              "      <td>0.952232</td>\n",
              "      <td>0.152902</td>\n",
              "      <td>0.952708</td>\n",
              "    </tr>\n",
              "    <tr>\n",
              "      <th>13</th>\n",
              "      <td>14</td>\n",
              "      <td>0.130343</td>\n",
              "      <td>0.960000</td>\n",
              "      <td>0.129016</td>\n",
              "      <td>0.966042</td>\n",
              "    </tr>\n",
              "    <tr>\n",
              "      <th>14</th>\n",
              "      <td>15</td>\n",
              "      <td>0.130017</td>\n",
              "      <td>0.960893</td>\n",
              "      <td>0.166184</td>\n",
              "      <td>0.945208</td>\n",
              "    </tr>\n",
              "  </tbody>\n",
              "</table>\n",
              "</div>"
            ],
            "text/plain": [
              "    epoch      loss  accuracy  val_loss  val_accuracy\n",
              "0       1  3.024484  0.164196  2.106492      0.362917\n",
              "1       2  1.681690  0.485714  1.433382      0.567500\n",
              "2       3  1.137284  0.651071  1.153830      0.691875\n",
              "3       4  0.865134  0.732946  0.691575      0.789167\n",
              "4       5  0.661732  0.790089  0.543996      0.832292\n",
              "5       6  0.525034  0.835536  0.609934      0.809375\n",
              "6       7  0.412872  0.868482  0.328860      0.909375\n",
              "7       8  0.328067  0.896250  0.351901      0.896042\n",
              "8       9  0.273628  0.913214  0.300368      0.902917\n",
              "9      10  0.247131  0.922321  0.222741      0.933333\n",
              "10     11  0.190797  0.940268  0.202662      0.934792\n",
              "11     12  0.169482  0.945893  0.173174      0.946667\n",
              "12     13  0.151204  0.952232  0.152902      0.952708\n",
              "13     14  0.130343  0.960000  0.129016      0.966042\n",
              "14     15  0.130017  0.960893  0.166184      0.945208"
            ]
          },
          "metadata": {
            "tags": []
          },
          "execution_count": 11
        }
      ]
    },
    {
      "cell_type": "code",
      "metadata": {
        "colab": {
          "base_uri": "https://localhost:8080/",
          "height": 404
        },
        "id": "rYXHN8o0y53F",
        "outputId": "26da4fa7-0a15-478d-a796-706b930d39da"
      },
      "source": [
        "fig = plt.figure(figsize=(10, 6))\n",
        "ax = plt.axes()\n",
        "\n",
        "plt.plot(list(range(1,16)), training.history['accuracy'], color='green', label=\"Train\")\n",
        "plt.plot(list(range(1,16)), training.history['val_accuracy'], color='blue', label=\"Validate\")\n",
        "\n",
        "plt.xlabel(\"Epoch\")\n",
        "plt.ylabel(\"Accuracy\")\n",
        "plt.title(\"With Labels\")\n",
        "\n",
        "plt.legend(loc='best')\n",
        "plt.show()"
      ],
      "execution_count": 12,
      "outputs": [
        {
          "output_type": "display_data",
          "data": {
            "image/png": "[encoded data removed]",
            "text/plain": [
              "<Figure size 720x432 with 1 Axes>"
            ]
          },
          "metadata": {
            "tags": [],
            "needs_background": "light"
          }
        }
      ]
    },
    {
      "cell_type": "code",
      "metadata": {
        "id": "o7VN7DNHu7IO"
      },
      "source": [
        "import tensorflow as tf\n",
        "tf.keras.models.save_model(model, '/content/drive/MyDrive/ASL Classification/model assets/asl_trained_model.h5')"
      ],
      "execution_count": 13,
      "outputs": []
    }
  ]
}